{
 "cells": [
  {
   "attachments": {},
   "cell_type": "markdown",
   "metadata": {},
   "source": [
    "# Creating chemical states\n",
    "\n",
    "<p class=\"acknowledgement\">Written by Allan Leal (ETH Zurich) on Jan 4th, 2022.<br>Last revised on Feb 3rd, 2022.</p>\n",
    "\n",
    "```{attention}\n",
    "Always make sure you are using the [latest version of Reaktoro](https://anaconda.org/conda-forge/reaktoro). Otherwise, some new features documented on this website will not work on your machine and you may receive unintuitive errors. Follow these [update instructions](updating_reaktoro_via_conda) to get the latest version of Reaktoro!\n",
    "```\n",
    "\n",
    "After learning how to define chemical systems and create a {{ChemicalSystem}} object, it is time to create some chemical states. In your applications, you will most often deal with a single {{ChemicalSystem}} object and multiple {{ChemicalState}} objects in which the system's temperature, pressure, and species amounts are specified.\n",
    "\n",
    "Let's check the following simple example, in which a chemical system is constructed with a gaseous phase only."
   ]
  },
  {
   "cell_type": "code",
   "execution_count": 1,
   "metadata": {},
   "outputs": [],
   "source": [
    "from reaktoro import *\n",
    "\n",
    "db = NasaDatabase(\"nasa-cea\")\n",
    "\n",
    "gases = GaseousPhase(\"CO2 O2 H2 H2O CH4 CO\")\n",
    "\n",
    "system = ChemicalSystem(db, gases)"
   ]
  },
  {
   "cell_type": "markdown",
   "metadata": {},
   "source": [
    "We can now create a {{ChemicalState}} object to represent the state of the system: "
   ]
  },
  {
   "cell_type": "code",
   "execution_count": 2,
   "metadata": {},
   "outputs": [],
   "source": [
    "state = ChemicalState(system)\n",
    "state.temperature(1000, \"celsius\")\n",
    "state.pressure(10, \"MPa\")\n",
    "state.set(\"CO2\", 0.1, \"mol\")\n",
    "state.set(\"O2\" , 0.2, \"mol\")\n",
    "state.set(\"H2\" , 0.3, \"mol\")\n",
    "state.set(\"H2O\", 0.4, \"mol\")\n",
    "state.set(\"CH4\", 0.5, \"mol\")\n",
    "state.set(\"CO\" , 0.6, \"mol\")"
   ]
  },
  {
   "cell_type": "markdown",
   "metadata": {},
   "source": [
    "We can print this chemical state to have an idea of what information it contains: "
   ]
  },
  {
   "cell_type": "code",
   "execution_count": 3,
   "metadata": {},
   "outputs": [
    {
     "name": "stdout",
     "output_type": "stream",
     "text": [
      "+-----------------+------------+------+\n",
      "| Property        |      Value | Unit |\n",
      "+-----------------+------------+------+\n",
      "| Temperature     |  1273.1500 |    K |\n",
      "| Pressure        |   100.0000 |  bar |\n",
      "| Charge:         | 0.0000e+00 |  mol |\n",
      "| Element Amount: |            |      |\n",
      "| :: H            | 3.4000e+00 |  mol |\n",
      "| :: C            | 1.2000e+00 |  mol |\n",
      "| :: O            | 1.6000e+00 |  mol |\n",
      "| Species Amount: |            |      |\n",
      "| :: CO2          | 1.0000e-01 |  mol |\n",
      "| :: O2           | 2.0000e-01 |  mol |\n",
      "| :: H2           | 3.0000e-01 |  mol |\n",
      "| :: H2O          | 4.0000e-01 |  mol |\n",
      "| :: CH4          | 5.0000e-01 |  mol |\n",
      "| :: CO           | 6.0000e-01 |  mol |\n",
      "+-----------------+------------+------+\n"
     ]
    }
   ],
   "source": [
    "print(state)"
   ]
  },
  {
   "cell_type": "markdown",
   "metadata": {},
   "source": [
    "```{tip}\n",
    "Access the link {{ChemicalState}} to find out all methods available in class `ChemicalState`!\n",
    "```\n",
    "\n",
    "From the table above we see that {{ChemicalState}} objects do not have thermodynamic properties of the system; only temperature, pressure, species amounts, element amounts, and the electric charge. We will learn in the next guide how to evaluate thermodynamic and chemical properties of the system such as Gibbs energy, enthalpy, volume, heat capacities, species activities, etc.\n",
    "\n",
    "```{note}\n",
    "You will often use class {{ChemicalState}} for: \n",
    "\n",
    "* specifying initial conditions for chemical equilibrium and kinetics calculations\n",
    "* storing computed states from the above computations (e.g., chemical equilibrium states)\n",
    "\n",
    "We will learn all these use cases in subsequent guides.\n",
    "```\n",
    "\n",
    "Let's consider now a more complicated chemical system and create a chemical state for it:"
   ]
  },
  {
   "cell_type": "code",
   "execution_count": 4,
   "metadata": {},
   "outputs": [
    {
     "name": "stdout",
     "output_type": "stream",
     "text": [
      "+---------------------------+------------+------+\n",
      "| Property                  |      Value | Unit |\n",
      "+---------------------------+------------+------+\n",
      "| Temperature               |   323.1500 |    K |\n",
      "| Pressure                  |     5.0663 |  bar |\n",
      "| Charge:                   | 2.0000e-03 |  mol |\n",
      "| Element Amount:           |            |      |\n",
      "| :: H                      | 1.1101e+02 |  mol |\n",
      "| :: C                      | 1.0002e-05 |  mol |\n",
      "| :: O                      | 2.0555e+03 |  mol |\n",
      "| :: Na                     | 1.0000e-01 |  mol |\n",
      "| :: Mg                     | 5.0001e-04 |  mol |\n",
      "| :: Si                     | 1.0000e+03 |  mol |\n",
      "| :: Cl                     | 1.0000e-01 |  mol |\n",
      "| :: Ca                     | 5.1000e-04 |  mol |\n",
      "| Species Amount:           |            |      |\n",
      "| :: H+                     | 1.0000e-16 |  mol |\n",
      "| :: H2O                    | 5.5506e+01 |  mol |\n",
      "| :: CO3-2                  | 1.0000e-16 |  mol |\n",
      "| :: CO2                    | 1.0000e-16 |  mol |\n",
      "| :: Ca+2                   | 5.0000e-04 |  mol |\n",
      "| :: Cl-                    | 1.0000e-01 |  mol |\n",
      "| :: H4SiO4                 | 1.0000e-16 |  mol |\n",
      "| :: H2SiO4-2               | 1.0000e-16 |  mol |\n",
      "| :: H3SiO4-                | 1.0000e-16 |  mol |\n",
      "| :: HCO3-                  | 1.0000e-16 |  mol |\n",
      "| :: Mg+2                   | 5.0000e-04 |  mol |\n",
      "| :: MgCO3                  | 1.0000e-16 |  mol |\n",
      "| :: MgOH+                  | 1.0000e-16 |  mol |\n",
      "| :: Na+                    | 1.0000e-01 |  mol |\n",
      "| :: OH-                    | 1.0000e-16 |  mol |\n",
      "| :: Halite :: NaCl         | 1.0000e-16 |  mol |\n",
      "| :: Calcite :: CaCO3       | 9.9909e-06 |  mol |\n",
      "| :: Dolomite :: CaMg(CO3)2 | 5.4228e-09 |  mol |\n",
      "| :: Quartz :: SiO2         | 1.0000e+03 |  mol |\n",
      "+---------------------------+------------+------+\n"
     ]
    }
   ],
   "source": [
    "db = PhreeqcDatabase(\"pitzer.dat\")\n",
    "\n",
    "solution = AqueousPhase()\n",
    "minerals = MineralPhases(\"Halite Calcite Dolomite Quartz\")\n",
    "\n",
    "system = ChemicalSystem(db, solution, minerals)\n",
    "\n",
    "state = ChemicalState(system)\n",
    "state.temperature(50.0, \"celsius\")\n",
    "state.pressure(5.0, \"atm\")\n",
    "state.set(\"H2O\"     , 1.00, \"kg\")\n",
    "state.set(\"Na+\"     , 0.10, \"mol\")\n",
    "state.set(\"Cl-\"     , 0.10, \"mol\")\n",
    "state.set(\"Ca+2\"    , 0.50, \"mmol\")\n",
    "state.set(\"Mg+2\"    , 0.50, \"mmol\")\n",
    "state.set(\"Calcite\" , 1.00, \"mg\")\n",
    "state.set(\"Dolomite\", 1.00, \"ug\")\n",
    "state.set(\"Quartz\"  , 1.00, \"kmol\")\n",
    "\n",
    "print(state)"
   ]
  },
  {
   "cell_type": "markdown",
   "metadata": {},
   "source": [
    "```{tip}\n",
    "By default, a {{ChemicalState}} object is initialized with the following conditions:\n",
    "\n",
    "* 273.15 K (or 25 °C)\n",
    "* 10<sup>5</sup> Pa (or 1 bar)\n",
    "* 10<sup>-16</sup> mol as the amounts of every species\n",
    "\n",
    "Zero is a numerically problematic value for species amounts; that's why we set it to a very small positive value instead. This should not be an issue for you in most cases, but if for some reason 10<sup>-16</sup> is not small enough, you can use the method `ChemicalState.setSpeciesAmount(1e-40)` to set a common amount value for all species in the system.\n",
    "\n",
    "**Try:** Create a {{ChemicalState}} object and print it before setting any property. \n",
    "```"
   ]
  },
  {
   "cell_type": "markdown",
   "metadata": {},
   "source": [
    "That's it. Now you know how to create {{ChemicalState}} objects and how to set their temperature, pressure, and species amounts/mass. Continue reading to learn more interesting use cases for {{ChemicalState}}, such as computing thermodynamic and chemical properties for the system using class {{ChemicalProps}}!"
   ]
  }
 ],
 "metadata": {
  "interpreter": {
   "hash": "e4e8b2f3ae27709963f14fd23a6560d362beea55eaec742263828e04d814e23c"
  },
  "kernelspec": {
   "display_name": "Python 3.9.7 64-bit ('reaktoro-jupyter-book': conda)",
   "language": "python",
   "name": "python3"
  },
  "language_info": {
   "codemirror_mode": {
    "name": "ipython",
    "version": 3
   },
   "file_extension": ".py",
   "mimetype": "text/x-python",
   "name": "python",
   "nbconvert_exporter": "python",
   "pygments_lexer": "ipython3",
   "version": "3.10.9"
  },
  "orig_nbformat": 4
 },
 "nbformat": 4,
 "nbformat_minor": 2
}
